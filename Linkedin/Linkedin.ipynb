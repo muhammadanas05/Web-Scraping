{
 "cells": [
  {
   "cell_type": "markdown",
   "metadata": {},
   "source": [
    "## Import Packages"
   ]
  },
  {
   "cell_type": "code",
   "execution_count": 1,
   "metadata": {},
   "outputs": [],
   "source": [
    "from selenium import webdriver\n",
    "import time\n",
    "import pandas as pd\n",
    "import os"
   ]
  },
  {
   "cell_type": "code",
   "execution_count": 2,
   "metadata": {},
   "outputs": [],
   "source": [
    "from selenium.webdriver.support.select import Select\n",
    "from selenium.webdriver.support.ui import WebDriverWait\n",
    "from selenium.webdriver.common.by import By\n",
    "from selenium.webdriver.support import expected_conditions as EC"
   ]
  },
  {
   "cell_type": "code",
   "execution_count": 39,
   "metadata": {},
   "outputs": [],
   "source": [
    "url = 'https://www.linkedin.com/jobs/search/?currentJobId=4016649033&distance=5&f_TPR=r604800&geoId=106494699&origin=JOB_SEARCH_PAGE_JOB_FILTER&refresh=true'\n",
    "url1 = 'https://www.linkedin.com/in/muhammadanas05/'"
   ]
  },
  {
   "cell_type": "markdown",
   "metadata": {},
   "source": [
    "## Load the web driver and get the url\n"
   ]
  },
  {
   "cell_type": "code",
   "execution_count": 45,
   "metadata": {},
   "outputs": [],
   "source": [
    "driver = webdriver.Chrome()\n",
    "driver.get(url)"
   ]
  },
  {
   "cell_type": "markdown",
   "metadata": {},
   "source": [
    "### Find number of job listings\n"
   ]
  },
  {
   "cell_type": "code",
   "execution_count": 46,
   "metadata": {},
   "outputs": [
    {
     "data": {
      "text/plain": [
       "228"
      ]
     },
     "execution_count": 46,
     "metadata": {},
     "output_type": "execute_result"
    }
   ],
   "source": [
    "y = driver.find_elements(By.CLASS_NAME,'results-context-header__job-count')[0].text\n",
    "y = pd.to_numeric(y)\n",
    "y"
   ]
  },
  {
   "cell_type": "code",
   "execution_count": 28,
   "metadata": {},
   "outputs": [
    {
     "name": "stdout",
     "output_type": "stream",
     "text": [
      "Muhammad Anas - Bytewise Fellowship [Machine Learning] - Bytewise Limited\n"
     ]
    }
   ],
   "source": [
    "full_title = driver.title\n",
    "\n",
    "name = full_title.split('|')[0].strip().replace(\"(1) \", \"\")  \n",
    "\n",
    "print(name)"
   ]
  },
  {
   "cell_type": "markdown",
   "metadata": {},
   "source": [
    "## To scroll through all jobs and click on see more jobs button for infinite scrolling"
   ]
  },
  {
   "cell_type": "code",
   "execution_count": 48,
   "metadata": {},
   "outputs": [],
   "source": [
    "i = 2\n",
    "while i <= int((y+200)/25)+1: \n",
    "    driver.execute_script(\"window.scrollTo(0, document.body.scrollHeight);\")\n",
    "    i = i + 1\n",
    "    \n",
    "    try:\n",
    "        send=driver.find_element_by_xpath(\"//button[@aria-label='Load more results']\")\n",
    "        driver.execute_script(\"arguments[0].click();\", send)   \n",
    "        time.sleep(3)\n",
    "    \n",
    "        \n",
    "         #buu=driver.find_elements_by_tag_name(\"button\")\n",
    "         #x=[btn for btn in buu if btn.text==\"See more jobs\"]\n",
    "         #for btn in x:\n",
    "                #driver.execute_script(\"arguments[0].click();\", btn)\n",
    "                #time.sleep(3)\n",
    "            \n",
    "    except:\n",
    "        pass\n",
    "        time.sleep(5)"
   ]
  },
  {
   "cell_type": "markdown",
   "metadata": {},
   "source": [
    "### Empty lists for company name and job title\n"
   ]
  },
  {
   "cell_type": "code",
   "execution_count": 44,
   "metadata": {},
   "outputs": [],
   "source": [
    "companyname= []\n",
    "titlename= []"
   ]
  },
  {
   "cell_type": "markdown",
   "metadata": {},
   "source": [
    "## Find company name and append it to the blank list"
   ]
  },
  {
   "cell_type": "code",
   "execution_count": 51,
   "metadata": {},
   "outputs": [
    {
     "name": "stdout",
     "output_type": "stream",
     "text": [
      "no\n"
     ]
    }
   ],
   "source": [
    "try:\n",
    "    for i in range(y):\n",
    "        company=driver.find_elements(By.CLASS_NAME,'base-search-card__subtitle')[i].text\n",
    "        companyname.append(company)\n",
    "    \n",
    "except IndexError:\n",
    "    print(\"no\")"
   ]
  },
  {
   "cell_type": "code",
   "execution_count": 55,
   "metadata": {},
   "outputs": [
    {
     "data": {
      "text/plain": [
       "['Pak Suzuki Motor Company Limited',\n",
       " 'The Indus Hospital',\n",
       " 'ibex. Pakistan',\n",
       " 'The Indus Hospital',\n",
       " 'The Indus Hospital',\n",
       " 'EBM',\n",
       " 'The Indus Hospital',\n",
       " 'Dawlance',\n",
       " 'S.M. Suhail & Co. Chartered Accountants',\n",
       " 'The Indus Hospital',\n",
       " 'QIMA',\n",
       " 'Red Bull',\n",
       " 'EY',\n",
       " 'The Indus Hospital',\n",
       " 'Getz Pharma',\n",
       " 'NXT LABS',\n",
       " 'The Indus Hospital',\n",
       " 'Mashreq',\n",
       " 'Mashreq',\n",
       " 'Hue Pret',\n",
       " 'IO DIGITAL',\n",
       " 'MENRAS',\n",
       " 'ibex. Pakistan',\n",
       " 'BASF',\n",
       " 'Right Placements',\n",
       " 'National Foods Limited',\n",
       " 'Global Industries Intelligence',\n",
       " 'Talent Nexus Bridge',\n",
       " 'The Plumtree Group Global',\n",
       " 'EY',\n",
       " 'Hul Hub Pakistan',\n",
       " 'Huevle',\n",
       " 'Levi Strauss & Co.',\n",
       " 'Decibel HRMS',\n",
       " 'Next Generation Innovations (NextGENi)',\n",
       " 'Sui Southern Gas Company Limited',\n",
       " 'The Plumtree Group Global',\n",
       " 'NielsenIQ',\n",
       " 'Gatronova',\n",
       " 'NielsenIQ',\n",
       " 'Afiniti',\n",
       " 'Consultisor',\n",
       " 'Afiniti',\n",
       " 'Gatronova',\n",
       " 'Mint Rewards',\n",
       " 'Milliman',\n",
       " 'Sui Southern Gas Company Limited',\n",
       " 'Consultisor',\n",
       " 'UBL - United Bank Limited',\n",
       " 'Zeta Corp',\n",
       " 'Afiniti',\n",
       " 'Sastechsol',\n",
       " 'TRANSBRIDGE LOGISTICS PAKISTAN (PVT) LTD',\n",
       " 'Life Sized Publishing',\n",
       " 'Hudson RPO',\n",
       " 'Gatronova',\n",
       " 'Hul Hub Pakistan',\n",
       " 'Telenor Microfinance Bank Limited',\n",
       " 'Haqooq-E-Insaniyat Social Welfare Organization',\n",
       " 'Outwerk Solutions',\n",
       " 'National Foods Limited',\n",
       " 'Global Industries Intelligence',\n",
       " 'Talent Nexus Bridge',\n",
       " 'The Plumtree Group Global',\n",
       " 'EY',\n",
       " 'Hul Hub Pakistan',\n",
       " 'Huevle',\n",
       " 'Levi Strauss & Co.',\n",
       " 'Decibel HRMS',\n",
       " 'Next Generation Innovations (NextGENi)',\n",
       " 'Afiniti',\n",
       " 'Sastechsol',\n",
       " 'TRANSBRIDGE LOGISTICS PAKISTAN (PVT) LTD',\n",
       " 'Life Sized Publishing',\n",
       " 'Hudson RPO',\n",
       " 'Gatronova',\n",
       " 'Hul Hub Pakistan',\n",
       " 'Telenor Microfinance Bank Limited',\n",
       " 'Haqooq-E-Insaniyat Social Welfare Organization',\n",
       " 'Outwerk Solutions',\n",
       " 'Remotiv',\n",
       " 'Dotgix Technologies',\n",
       " 'S.I. Chemicals',\n",
       " 'Tech Horizontal',\n",
       " 'Scalemill',\n",
       " 'Afiniti',\n",
       " 'Crossover',\n",
       " 'NXT LABS',\n",
       " 'TriA Tech Solution (Pvt) Ltd',\n",
       " 'HS AHMED ALLY']"
      ]
     },
     "execution_count": 55,
     "metadata": {},
     "output_type": "execute_result"
    }
   ],
   "source": [
    "companyname"
   ]
  },
  {
   "cell_type": "code",
   "execution_count": 52,
   "metadata": {},
   "outputs": [
    {
     "data": {
      "text/plain": [
       "90"
      ]
     },
     "execution_count": 52,
     "metadata": {},
     "output_type": "execute_result"
    }
   ],
   "source": [
    "len(companyname)"
   ]
  },
  {
   "cell_type": "markdown",
   "metadata": {},
   "source": [
    "## Find title name and append it to the blank list"
   ]
  },
  {
   "cell_type": "code",
   "execution_count": 54,
   "metadata": {},
   "outputs": [
    {
     "name": "stdout",
     "output_type": "stream",
     "text": [
      "no\n"
     ]
    }
   ],
   "source": [
    "try:\n",
    "    for i in range(y):\n",
    "        \n",
    "        \n",
    "        title=driver.find_elements(By.CLASS_NAME,'base-search-card__title')[i].text\n",
    "    \n",
    "\n",
    "        titlename.append(title)\n",
    "    \n",
    "except IndexError:\n",
    "    print(\"no\")"
   ]
  },
  {
   "cell_type": "code",
   "execution_count": 56,
   "metadata": {},
   "outputs": [
    {
     "data": {
      "text/plain": [
       "['Assistant Manager',\n",
       " 'Assistant Manager',\n",
       " 'Process Coordinator',\n",
       " 'Medical Officer',\n",
       " 'Patient and Family Educator - MCM Project',\n",
       " 'Human Resources Officer',\n",
       " 'Senior Officer',\n",
       " 'Specialist Ordering(contractual)',\n",
       " 'Audit Supervisor',\n",
       " 'Deputy Manager, Cost / Contract',\n",
       " 'Quality Inspector',\n",
       " 'National Consumer Collecting Manager',\n",
       " 'Account Support Associate - Karachi (Rapid)',\n",
       " 'Senior Technician - HVAC',\n",
       " 'Assistant Manager - NPD & Technology Transfer',\n",
       " 'Shopify Marketplace Manager',\n",
       " 'Senior Medical Officer (Evening Shift) - Karachi Based',\n",
       " 'Marketing Manager B2B (Mashreq Digital Bank Limited)',\n",
       " 'Officer - Reconciliation (Mashreq Digital Bank Pakistan)',\n",
       " 'Brand Development Manger',\n",
       " 'Community Management Executive',\n",
       " 'Business Development Executive',\n",
       " 'International Customer Service',\n",
       " 'Management Trainee - Sales',\n",
       " 'Executive Administrative Assistant (Excel)',\n",
       " 'International Regulation Specialist',\n",
       " 'International Sales Specialist',\n",
       " 'Copywriter',\n",
       " 'Account Manager',\n",
       " 'Central Planning, Budgeting and Financial Analysis Support - Rapid (Karachi)',\n",
       " 'Senior Software Engineer (.NET)',\n",
       " 'Sales Executive',\n",
       " 'Store Manager',\n",
       " 'Specialist - Project Management',\n",
       " 'Lead .NET Developer',\n",
       " 'Assistant Manager – Financial Audits',\n",
       " 'UI\\\\UX Designer',\n",
       " 'Junior Desk Research Analyst',\n",
       " 'Cashier',\n",
       " 'Junior Desk Research Analyst',\n",
       " 'Production Analyst',\n",
       " 'Customer success & Project Manager',\n",
       " 'Production Analyst',\n",
       " 'MTO - Sales and Marketing',\n",
       " 'Grants Writer - Freelancer/Contract',\n",
       " 'Credit Risk Modeller',\n",
       " 'Manager – Audits (Consulting Assignments)',\n",
       " 'Customer Success & Project Manager',\n",
       " 'Portfolio Head – Online Payments',\n",
       " 'Assistant Manager Integration',\n",
       " 'Production Analyst',\n",
       " 'Sales Executive',\n",
       " 'Sales Marketing Executive',\n",
       " 'Business Development Executive',\n",
       " 'Senior Talent Acquisition Specialist (Ref:726)',\n",
       " 'Lead HRBP',\n",
       " 'Software Engineer (MEAN Stack)',\n",
       " 'Executive Manager FI and Home Remittance',\n",
       " 'Resource Development Manager',\n",
       " 'Calling Executives (Multiple Vacancies)',\n",
       " 'International Regulation Specialist',\n",
       " 'International Sales Specialist',\n",
       " 'Copywriter',\n",
       " 'Account Manager',\n",
       " 'Central Planning, Budgeting and Financial Analysis Support - Rapid (Karachi)',\n",
       " 'Senior Software Engineer (.NET)',\n",
       " 'Sales Executive',\n",
       " 'Store Manager',\n",
       " 'Specialist - Project Management',\n",
       " 'Lead .NET Developer',\n",
       " 'Production Analyst',\n",
       " 'Sales Executive',\n",
       " 'Sales Marketing Executive',\n",
       " 'Business Development Executive',\n",
       " 'Senior Talent Acquisition Specialist (Ref:726)',\n",
       " 'Lead HRBP',\n",
       " 'Software Engineer (MEAN Stack)',\n",
       " 'Executive Manager FI and Home Remittance',\n",
       " 'Resource Development Manager',\n",
       " 'Calling Executives (Multiple Vacancies)',\n",
       " 'Digital Marketing Strategist',\n",
       " 'Call Center Executive',\n",
       " 'Machine Operator - Flexo Plate Making',\n",
       " 'Book Formatter',\n",
       " 'Sales Development Representative',\n",
       " 'Production Analyst',\n",
       " 'Financial Data Analyst, IgniteTech (Remote) - $30,000/year USD',\n",
       " 'Shopify MarketPlace Manager (Night Shift)',\n",
       " 'Front Sale person',\n",
       " 'Technical Sales Engineer']"
      ]
     },
     "execution_count": 56,
     "metadata": {},
     "output_type": "execute_result"
    }
   ],
   "source": [
    "titlename"
   ]
  },
  {
   "cell_type": "markdown",
   "metadata": {},
   "source": [
    "## Create dataframe for company name and title"
   ]
  },
  {
   "cell_type": "code",
   "execution_count": 57,
   "metadata": {},
   "outputs": [],
   "source": [
    "companyfinal=pd.DataFrame(companyname,columns=[\"company\"])\n",
    "titlefinal=pd.DataFrame(titlename,columns=[\"title\"])"
   ]
  },
  {
   "cell_type": "markdown",
   "metadata": {},
   "source": [
    "## Join the two lists"
   ]
  },
  {
   "cell_type": "code",
   "execution_count": 58,
   "metadata": {},
   "outputs": [],
   "source": [
    "x = companyfinal.join(titlefinal)"
   ]
  },
  {
   "cell_type": "code",
   "execution_count": 59,
   "metadata": {},
   "outputs": [
    {
     "data": {
      "text/html": [
       "<div>\n",
       "<style scoped>\n",
       "    .dataframe tbody tr th:only-of-type {\n",
       "        vertical-align: middle;\n",
       "    }\n",
       "\n",
       "    .dataframe tbody tr th {\n",
       "        vertical-align: top;\n",
       "    }\n",
       "\n",
       "    .dataframe thead th {\n",
       "        text-align: right;\n",
       "    }\n",
       "</style>\n",
       "<table border=\"1\" class=\"dataframe\">\n",
       "  <thead>\n",
       "    <tr style=\"text-align: right;\">\n",
       "      <th></th>\n",
       "      <th>company</th>\n",
       "      <th>title</th>\n",
       "    </tr>\n",
       "  </thead>\n",
       "  <tbody>\n",
       "    <tr>\n",
       "      <th>0</th>\n",
       "      <td>Pak Suzuki Motor Company Limited</td>\n",
       "      <td>Assistant Manager</td>\n",
       "    </tr>\n",
       "    <tr>\n",
       "      <th>1</th>\n",
       "      <td>The Indus Hospital</td>\n",
       "      <td>Assistant Manager</td>\n",
       "    </tr>\n",
       "    <tr>\n",
       "      <th>2</th>\n",
       "      <td>ibex. Pakistan</td>\n",
       "      <td>Process Coordinator</td>\n",
       "    </tr>\n",
       "    <tr>\n",
       "      <th>3</th>\n",
       "      <td>The Indus Hospital</td>\n",
       "      <td>Medical Officer</td>\n",
       "    </tr>\n",
       "    <tr>\n",
       "      <th>4</th>\n",
       "      <td>The Indus Hospital</td>\n",
       "      <td>Patient and Family Educator - MCM Project</td>\n",
       "    </tr>\n",
       "    <tr>\n",
       "      <th>...</th>\n",
       "      <td>...</td>\n",
       "      <td>...</td>\n",
       "    </tr>\n",
       "    <tr>\n",
       "      <th>85</th>\n",
       "      <td>Afiniti</td>\n",
       "      <td>Production Analyst</td>\n",
       "    </tr>\n",
       "    <tr>\n",
       "      <th>86</th>\n",
       "      <td>Crossover</td>\n",
       "      <td>Financial Data Analyst, IgniteTech (Remote) - ...</td>\n",
       "    </tr>\n",
       "    <tr>\n",
       "      <th>87</th>\n",
       "      <td>NXT LABS</td>\n",
       "      <td>Shopify MarketPlace Manager (Night Shift)</td>\n",
       "    </tr>\n",
       "    <tr>\n",
       "      <th>88</th>\n",
       "      <td>TriA Tech Solution (Pvt) Ltd</td>\n",
       "      <td>Front Sale person</td>\n",
       "    </tr>\n",
       "    <tr>\n",
       "      <th>89</th>\n",
       "      <td>HS AHMED ALLY</td>\n",
       "      <td>Technical Sales Engineer</td>\n",
       "    </tr>\n",
       "  </tbody>\n",
       "</table>\n",
       "<p>90 rows × 2 columns</p>\n",
       "</div>"
      ],
      "text/plain": [
       "                             company  \\\n",
       "0   Pak Suzuki Motor Company Limited   \n",
       "1                 The Indus Hospital   \n",
       "2                     ibex. Pakistan   \n",
       "3                 The Indus Hospital   \n",
       "4                 The Indus Hospital   \n",
       "..                               ...   \n",
       "85                           Afiniti   \n",
       "86                         Crossover   \n",
       "87                          NXT LABS   \n",
       "88      TriA Tech Solution (Pvt) Ltd   \n",
       "89                     HS AHMED ALLY   \n",
       "\n",
       "                                                title  \n",
       "0                                   Assistant Manager  \n",
       "1                                   Assistant Manager  \n",
       "2                                 Process Coordinator  \n",
       "3                                     Medical Officer  \n",
       "4           Patient and Family Educator - MCM Project  \n",
       "..                                                ...  \n",
       "85                                 Production Analyst  \n",
       "86  Financial Data Analyst, IgniteTech (Remote) - ...  \n",
       "87          Shopify MarketPlace Manager (Night Shift)  \n",
       "88                                  Front Sale person  \n",
       "89                           Technical Sales Engineer  \n",
       "\n",
       "[90 rows x 2 columns]"
      ]
     },
     "execution_count": 59,
     "metadata": {},
     "output_type": "execute_result"
    }
   ],
   "source": [
    "x"
   ]
  },
  {
   "cell_type": "markdown",
   "metadata": {},
   "source": [
    "## Save in csv file"
   ]
  },
  {
   "cell_type": "code",
   "execution_count": 60,
   "metadata": {},
   "outputs": [],
   "source": [
    "x.to_csv('linkedin.csv')"
   ]
  },
  {
   "cell_type": "markdown",
   "metadata": {},
   "source": [
    "## Find job links and append it to a list"
   ]
  },
  {
   "cell_type": "code",
   "execution_count": 62,
   "metadata": {},
   "outputs": [],
   "source": [
    "jobList = driver.find_elements(By.CLASS_NAME,'base-card__full-link')\n",
    "hrefList = []\n",
    "for e in jobList:\n",
    "    hrefList.append(e.get_attribute('href'))"
   ]
  },
  {
   "cell_type": "code",
   "execution_count": 63,
   "metadata": {},
   "outputs": [
    {
     "data": {
      "text/plain": [
       "['https://pk.linkedin.com/jobs/view/assistant-manager-at-pak-suzuki-motor-company-limited-4033835691?position=1&pageNum=0&refId=wGBfrWbvk%2F5LBisrWppAiw%3D%3D&trackingId=NQGvAMF%2FQOZ%2FIXVdPkDOXw%3D%3D',\n",
       " 'https://pk.linkedin.com/jobs/view/assistant-manager-at-the-indus-hospital-4032976164?position=2&pageNum=0&refId=wGBfrWbvk%2F5LBisrWppAiw%3D%3D&trackingId=AJuhyluPRzVMX7gWkaIHgQ%3D%3D',\n",
       " 'https://pk.linkedin.com/jobs/view/process-coordinator-at-ibex-pakistan-4032007882?position=3&pageNum=0&refId=wGBfrWbvk%2F5LBisrWppAiw%3D%3D&trackingId=Zi0FWGC5AAlEEMcMcDFoYA%3D%3D',\n",
       " 'https://pk.linkedin.com/jobs/view/medical-officer-at-the-indus-hospital-4032975324?position=4&pageNum=0&refId=wGBfrWbvk%2F5LBisrWppAiw%3D%3D&trackingId=JRDCUzBkE%2FsWlV3B2EeoRw%3D%3D',\n",
       " 'https://pk.linkedin.com/jobs/view/patient-and-family-educator-mcm-project-at-the-indus-hospital-4032973450?position=5&pageNum=0&refId=wGBfrWbvk%2F5LBisrWppAiw%3D%3D&trackingId=sr36SbQVvzNiUm%2FRcSbMlA%3D%3D',\n",
       " 'https://pk.linkedin.com/jobs/view/human-resources-officer-at-ebm-4032807100?position=6&pageNum=0&refId=wGBfrWbvk%2F5LBisrWppAiw%3D%3D&trackingId=BJy3728CvgaXpKcb9qH47g%3D%3D',\n",
       " 'https://pk.linkedin.com/jobs/view/senior-officer-at-the-indus-hospital-4035044448?position=7&pageNum=0&refId=wGBfrWbvk%2F5LBisrWppAiw%3D%3D&trackingId=10KFx9Z61cZ6bM1m9AjIXQ%3D%3D',\n",
       " 'https://pk.linkedin.com/jobs/view/specialist-ordering-contractual-at-dawlance-4033698714?position=8&pageNum=0&refId=wGBfrWbvk%2F5LBisrWppAiw%3D%3D&trackingId=HzbDBma0%2B%2FNMbvasHHo8Gw%3D%3D',\n",
       " 'https://pk.linkedin.com/jobs/view/audit-supervisor-at-s-m-suhail-co-chartered-accountants-4027753001?position=9&pageNum=0&refId=wGBfrWbvk%2F5LBisrWppAiw%3D%3D&trackingId=JVyxJn7gN0lMP7dRMo%2B0rA%3D%3D',\n",
       " 'https://pk.linkedin.com/jobs/view/deputy-manager-cost-contract-at-the-indus-hospital-4035821731?position=10&pageNum=0&refId=wGBfrWbvk%2F5LBisrWppAiw%3D%3D&trackingId=ObuAHFmV0MB%2F8DVjSnm%2Blw%3D%3D',\n",
       " 'https://pk.linkedin.com/jobs/view/quality-inspector-at-qima-4002494066?position=11&pageNum=0&refId=wGBfrWbvk%2F5LBisrWppAiw%3D%3D&trackingId=FaVP5bSqpvQz6Rs2HvPH3w%3D%3D',\n",
       " 'https://pk.linkedin.com/jobs/view/national-consumer-collecting-manager-at-red-bull-3983981238?position=12&pageNum=0&refId=wGBfrWbvk%2F5LBisrWppAiw%3D%3D&trackingId=uinaV8pNuC9b35Qpm40jNw%3D%3D',\n",
       " 'https://pk.linkedin.com/jobs/view/account-support-associate-karachi-rapid-at-ey-3963399471?position=13&pageNum=0&refId=wGBfrWbvk%2F5LBisrWppAiw%3D%3D&trackingId=t%2FFJWl31rI23JA%2FF0IkL2A%3D%3D',\n",
       " 'https://pk.linkedin.com/jobs/view/senior-technician-hvac-at-the-indus-hospital-4035476481?position=14&pageNum=0&refId=wGBfrWbvk%2F5LBisrWppAiw%3D%3D&trackingId=EWl6xtaYifgL4QUxG9gwPw%3D%3D',\n",
       " 'https://pk.linkedin.com/jobs/view/assistant-manager-npd-technology-transfer-at-getz-pharma-4034159470?position=15&pageNum=0&refId=wGBfrWbvk%2F5LBisrWppAiw%3D%3D&trackingId=2fbe5fxMtFZpKOne5S8usQ%3D%3D',\n",
       " 'https://pk.linkedin.com/jobs/view/shopify-marketplace-manager-at-nxt-labs-4033552087?position=16&pageNum=0&refId=wGBfrWbvk%2F5LBisrWppAiw%3D%3D&trackingId=Z4UY%2F6qLF06qo%2BMrg8sfdw%3D%3D',\n",
       " 'https://pk.linkedin.com/jobs/view/senior-medical-officer-evening-shift-karachi-based-at-the-indus-hospital-4034612831?position=17&pageNum=0&refId=wGBfrWbvk%2F5LBisrWppAiw%3D%3D&trackingId=2AVc9cX12MHI401BjPUf2A%3D%3D',\n",
       " 'https://pk.linkedin.com/jobs/view/marketing-manager-b2b-mashreq-digital-bank-limited-at-mashreq-4034946491?position=18&pageNum=0&refId=wGBfrWbvk%2F5LBisrWppAiw%3D%3D&trackingId=vlIqtKJvcgBtAg5fXNvl%2Bw%3D%3D',\n",
       " 'https://pk.linkedin.com/jobs/view/officer-reconciliation-mashreq-digital-bank-pakistan-at-mashreq-4032674770?position=19&pageNum=0&refId=wGBfrWbvk%2F5LBisrWppAiw%3D%3D&trackingId=Fz5%2FvmMXPzUWiNDpDT8RIw%3D%3D',\n",
       " 'https://pk.linkedin.com/jobs/view/community-management-executive-at-io-digital-4035783492?position=21&pageNum=0&refId=wGBfrWbvk%2F5LBisrWppAiw%3D%3D&trackingId=uUv4izfT0sExgdN%2BcQu%2FYg%3D%3D',\n",
       " 'https://pk.linkedin.com/jobs/view/business-development-executive-at-menras-4033269664?position=22&pageNum=0&refId=wGBfrWbvk%2F5LBisrWppAiw%3D%3D&trackingId=5WoNGlpc6PwylZrCGhrX3g%3D%3D',\n",
       " 'https://pk.linkedin.com/jobs/view/international-customer-service-at-ibex-pakistan-4035574026?position=23&pageNum=0&refId=wGBfrWbvk%2F5LBisrWppAiw%3D%3D&trackingId=MkxSpBYdh6bmW3kGrVWxSA%3D%3D',\n",
       " 'https://pk.linkedin.com/jobs/view/management-trainee-sales-at-basf-4035253462?position=24&pageNum=0&refId=wGBfrWbvk%2F5LBisrWppAiw%3D%3D&trackingId=PNQq07k1HpvVnNQB3wrosQ%3D%3D',\n",
       " 'https://pk.linkedin.com/jobs/view/executive-administrative-assistant-excel-at-right-placements-4038184567?position=25&pageNum=0&refId=wGBfrWbvk%2F5LBisrWppAiw%3D%3D&trackingId=l2W3sbxcJm1hEmmQmrk%2FJA%3D%3D',\n",
       " 'https://pk.linkedin.com/jobs/view/international-regulation-specialist-at-national-foods-limited-4032938105?position=26&pageNum=0&refId=wGBfrWbvk%2F5LBisrWppAiw%3D%3D&trackingId=w%2Fz5HFuKgb4xMizeWb1rWQ%3D%3D',\n",
       " 'https://pk.linkedin.com/jobs/view/international-sales-specialist-at-global-industries-intelligence-4032874345?position=27&pageNum=0&refId=wGBfrWbvk%2F5LBisrWppAiw%3D%3D&trackingId=9DbIstEq0rihnoArUGqusA%3D%3D',\n",
       " 'https://pk.linkedin.com/jobs/view/copywriter-at-talent-nexus-bridge-4035121112?position=28&pageNum=0&refId=wGBfrWbvk%2F5LBisrWppAiw%3D%3D&trackingId=S7x9uYUxdDiPNTd7%2BJPqbw%3D%3D',\n",
       " 'https://pk.linkedin.com/jobs/view/account-manager-at-the-plumtree-group-global-4032342931?position=29&pageNum=0&refId=wGBfrWbvk%2F5LBisrWppAiw%3D%3D&trackingId=oUVCv1nlTLNdhIQZeveD7g%3D%3D',\n",
       " 'https://pk.linkedin.com/jobs/view/central-planning-budgeting-and-financial-analysis-support-rapid-karachi-at-ey-4018156952?position=30&pageNum=0&refId=wGBfrWbvk%2F5LBisrWppAiw%3D%3D&trackingId=VRMrpyCt7bvaQIVglhg80g%3D%3D',\n",
       " 'https://pk.linkedin.com/jobs/view/senior-software-engineer-net-at-hul-hub-pakistan-4036245841?position=31&pageNum=0&refId=wGBfrWbvk%2F5LBisrWppAiw%3D%3D&trackingId=yxVUUSqNy2OngC6n25QMYw%3D%3D',\n",
       " 'https://pk.linkedin.com/jobs/view/sales-executive-at-huevle-4035120597?position=32&pageNum=0&refId=wGBfrWbvk%2F5LBisrWppAiw%3D%3D&trackingId=8I660T%2FuwqhmS5xZ6U41XQ%3D%3D',\n",
       " 'https://pk.linkedin.com/jobs/view/store-manager-at-levi-strauss-co-4017454549?position=33&pageNum=0&refId=wGBfrWbvk%2F5LBisrWppAiw%3D%3D&trackingId=dbTlYAbW28HSF7uQklREDw%3D%3D',\n",
       " 'https://pk.linkedin.com/jobs/view/specialist-project-management-at-decibel-hrms-4033693928?position=34&pageNum=0&refId=wGBfrWbvk%2F5LBisrWppAiw%3D%3D&trackingId=Oy1aYpa76tFVoRsh1ZGyZw%3D%3D',\n",
       " 'https://pk.linkedin.com/jobs/view/lead-net-developer-at-next-generation-innovations-nextgeni-4035667572?position=35&pageNum=0&refId=wGBfrWbvk%2F5LBisrWppAiw%3D%3D&trackingId=46KRU178NvsAK5tMel3P9Q%3D%3D',\n",
       " 'https://pk.linkedin.com/jobs/view/assistant-manager-%E2%80%93-financial-audits-at-sui-southern-gas-company-limited-4032300310?position=36&pageNum=0&refId=wGBfrWbvk%2F5LBisrWppAiw%3D%3D&trackingId=CpWuuD%2FRkvkcfSLvmG%2FG6w%3D%3D',\n",
       " 'https://pk.linkedin.com/jobs/view/ui-ux-designer-at-the-plumtree-group-global-4036264175?position=37&pageNum=0&refId=wGBfrWbvk%2F5LBisrWppAiw%3D%3D&trackingId=5jNxkVL7i5D6d%2BNHsEcnwA%3D%3D',\n",
       " 'https://pk.linkedin.com/jobs/view/junior-desk-research-analyst-at-nielseniq-4034608437?position=38&pageNum=0&refId=wGBfrWbvk%2F5LBisrWppAiw%3D%3D&trackingId=EJs7JwADk5ndh4AtGRNZQw%3D%3D',\n",
       " 'https://pk.linkedin.com/jobs/view/cashier-at-gatronova-4033080827?position=39&pageNum=0&refId=wGBfrWbvk%2F5LBisrWppAiw%3D%3D&trackingId=EBraJIX6XUSZWmQwZpgyNQ%3D%3D',\n",
       " 'https://pk.linkedin.com/jobs/view/junior-desk-research-analyst-at-nielseniq-4033969228?position=40&pageNum=0&refId=wGBfrWbvk%2F5LBisrWppAiw%3D%3D&trackingId=VQm96Y%2BUt%2BSZkTANP9U8TA%3D%3D',\n",
       " 'https://pk.linkedin.com/jobs/view/production-analyst-at-afiniti-3950364839?position=41&pageNum=0&refId=wGBfrWbvk%2F5LBisrWppAiw%3D%3D&trackingId=YDVCPQbOUWBGAuMqfpPkpA%3D%3D',\n",
       " 'https://pk.linkedin.com/jobs/view/customer-success-project-manager-at-consultisor-4035201258?position=42&pageNum=0&refId=wGBfrWbvk%2F5LBisrWppAiw%3D%3D&trackingId=fmVBYYKQ21E6m%2FWhkGytFA%3D%3D',\n",
       " 'https://pk.linkedin.com/jobs/view/production-analyst-at-afiniti-3968179658?position=43&pageNum=0&refId=wGBfrWbvk%2F5LBisrWppAiw%3D%3D&trackingId=cLAcXEuBFJIBq6L7CT%2BKKA%3D%3D',\n",
       " 'https://pk.linkedin.com/jobs/view/mto-sales-and-marketing-at-gatronova-4034767312?position=44&pageNum=0&refId=wGBfrWbvk%2F5LBisrWppAiw%3D%3D&trackingId=NqZDAVp8D4oa8P0Bq1TDdw%3D%3D',\n",
       " 'https://pk.linkedin.com/jobs/view/grants-writer-freelancer-contract-at-mint-rewards-4037048385?position=45&pageNum=0&refId=wGBfrWbvk%2F5LBisrWppAiw%3D%3D&trackingId=X5jTT5dfKBil39C3vmdLbw%3D%3D',\n",
       " 'https://pk.linkedin.com/jobs/view/credit-risk-modeller-at-milliman-3982243651?position=46&pageNum=0&refId=wGBfrWbvk%2F5LBisrWppAiw%3D%3D&trackingId=qxz7lyoYEx1nFbx6XEI9Fw%3D%3D',\n",
       " 'https://pk.linkedin.com/jobs/view/manager-%E2%80%93-audits-consulting-assignments-at-sui-southern-gas-company-limited-4032303012?position=47&pageNum=0&refId=wGBfrWbvk%2F5LBisrWppAiw%3D%3D&trackingId=JlOCy4kC%2FeENPm99gBQqhg%3D%3D',\n",
       " 'https://pk.linkedin.com/jobs/view/customer-success-project-manager-at-consultisor-4036007701?position=48&pageNum=0&refId=wGBfrWbvk%2F5LBisrWppAiw%3D%3D&trackingId=bTvDBoR%2B%2BrQJI5%2FLGf1%2BSA%3D%3D',\n",
       " 'https://pk.linkedin.com/jobs/view/portfolio-head-%E2%80%93-online-payments-at-ubl-united-bank-limited-4034771377?position=49&pageNum=0&refId=wGBfrWbvk%2F5LBisrWppAiw%3D%3D&trackingId=OR3K4ROwxouZLG4akye4pw%3D%3D',\n",
       " 'https://pk.linkedin.com/jobs/view/assistant-manager-integration-at-zeta-corp-4034507490?position=50&pageNum=0&refId=wGBfrWbvk%2F5LBisrWppAiw%3D%3D&trackingId=wxUwDCcvwdFpXzbVE9uw9A%3D%3D',\n",
       " 'https://pk.linkedin.com/jobs/view/production-analyst-at-afiniti-3949479004?position=51&pageNum=0&refId=wGBfrWbvk%2F5LBisrWppAiw%3D%3D&trackingId=rHgDwKYSK7hHn%2FzBnhHzkA%3D%3D',\n",
       " 'https://pk.linkedin.com/jobs/view/sales-executive-at-sastechsol-4032809213?position=52&pageNum=0&refId=wGBfrWbvk%2F5LBisrWppAiw%3D%3D&trackingId=j2lYN8tDmWSGx05pKY2tcQ%3D%3D',\n",
       " 'https://pk.linkedin.com/jobs/view/sales-marketing-executive-at-transbridge-logistics-pakistan-pvt-ltd-4032649790?position=53&pageNum=0&refId=wGBfrWbvk%2F5LBisrWppAiw%3D%3D&trackingId=%2BX%2FAI7YataVrv%2B5PCjPSag%3D%3D',\n",
       " 'https://pk.linkedin.com/jobs/view/business-development-executive-at-life-sized-publishing-4031090905?position=54&pageNum=0&refId=wGBfrWbvk%2F5LBisrWppAiw%3D%3D&trackingId=%2Fg15GTGZq5AtgKBkLdyW5A%3D%3D',\n",
       " 'https://pk.linkedin.com/jobs/view/senior-talent-acquisition-specialist-ref-726-at-hudson-rpo-4035221127?position=55&pageNum=0&refId=wGBfrWbvk%2F5LBisrWppAiw%3D%3D&trackingId=yaGhn03rf66%2BPhoRiHDDsQ%3D%3D',\n",
       " 'https://pk.linkedin.com/jobs/view/lead-hrbp-at-gatronova-4033912132?position=56&pageNum=0&refId=wGBfrWbvk%2F5LBisrWppAiw%3D%3D&trackingId=jawLuZhMz%2B7URZwzVns1iw%3D%3D',\n",
       " 'https://pk.linkedin.com/jobs/view/software-engineer-mean-stack-at-hul-hub-pakistan-4033581322?position=57&pageNum=0&refId=wGBfrWbvk%2F5LBisrWppAiw%3D%3D&trackingId=W1KiwHl06uDyE%2BjMgOx9ew%3D%3D',\n",
       " 'https://pk.linkedin.com/jobs/view/executive-manager-fi-and-home-remittance-at-telenor-microfinance-bank-limited-4034150509?position=58&pageNum=0&refId=wGBfrWbvk%2F5LBisrWppAiw%3D%3D&trackingId=b0YKCcFch6bTaknQ8qTChw%3D%3D',\n",
       " 'https://pk.linkedin.com/jobs/view/resource-development-manager-at-haqooq-e-insaniyat-social-welfare-organization-4034150794?position=59&pageNum=0&refId=wGBfrWbvk%2F5LBisrWppAiw%3D%3D&trackingId=9teXupBoRtP076ic1robqQ%3D%3D',\n",
       " 'https://pk.linkedin.com/jobs/view/calling-executives-multiple-vacancies-at-outwerk-solutions-4035262090?position=60&pageNum=0&refId=wGBfrWbvk%2F5LBisrWppAiw%3D%3D&trackingId=XyY0eHIH8PhOzqWIMNsLVQ%3D%3D',\n",
       " 'https://pk.linkedin.com/jobs/view/international-regulation-specialist-at-national-foods-limited-4032938105?position=1&pageNum=2&refId=4Robt6YefSweKLkC2niMmA%3D%3D&trackingId=Li8jUW0T3ZDaWicuvU70sw%3D%3D',\n",
       " 'https://pk.linkedin.com/jobs/view/international-sales-specialist-at-global-industries-intelligence-4032874345?position=2&pageNum=2&refId=4Robt6YefSweKLkC2niMmA%3D%3D&trackingId=lZpeQqJ4SId88pGtExHn3Q%3D%3D',\n",
       " 'https://pk.linkedin.com/jobs/view/copywriter-at-talent-nexus-bridge-4035121112?position=3&pageNum=2&refId=4Robt6YefSweKLkC2niMmA%3D%3D&trackingId=PzsZHMNl8nT0Oo13WYBlyA%3D%3D',\n",
       " 'https://pk.linkedin.com/jobs/view/account-manager-at-the-plumtree-group-global-4032342931?position=4&pageNum=2&refId=4Robt6YefSweKLkC2niMmA%3D%3D&trackingId=vQgr4LimV58PbfkKGyLcQw%3D%3D',\n",
       " 'https://pk.linkedin.com/jobs/view/central-planning-budgeting-and-financial-analysis-support-rapid-karachi-at-ey-4018156952?position=5&pageNum=2&refId=4Robt6YefSweKLkC2niMmA%3D%3D&trackingId=QFn2UQQxrLQUJcZALzUnVQ%3D%3D',\n",
       " 'https://pk.linkedin.com/jobs/view/senior-software-engineer-net-at-hul-hub-pakistan-4036245841?position=6&pageNum=2&refId=4Robt6YefSweKLkC2niMmA%3D%3D&trackingId=jNxHe0pWQ%2F%2Fn6m3VD%2BYlSg%3D%3D',\n",
       " 'https://pk.linkedin.com/jobs/view/sales-executive-at-huevle-4035120597?position=7&pageNum=2&refId=4Robt6YefSweKLkC2niMmA%3D%3D&trackingId=4OdAMP1EZuNGSk9oJ0OH9A%3D%3D',\n",
       " 'https://pk.linkedin.com/jobs/view/store-manager-at-levi-strauss-co-4017454549?position=8&pageNum=2&refId=4Robt6YefSweKLkC2niMmA%3D%3D&trackingId=hp3wnhFuCSLJ6jwnTzChnQ%3D%3D',\n",
       " 'https://pk.linkedin.com/jobs/view/specialist-project-management-at-decibel-hrms-4033693928?position=9&pageNum=2&refId=4Robt6YefSweKLkC2niMmA%3D%3D&trackingId=7QS0sdsi7l8z4KEWNwK%2BeQ%3D%3D',\n",
       " 'https://pk.linkedin.com/jobs/view/lead-net-developer-at-next-generation-innovations-nextgeni-4035667572?position=10&pageNum=2&refId=4Robt6YefSweKLkC2niMmA%3D%3D&trackingId=1qX4FuQIPeozLI03lw%2BUVQ%3D%3D',\n",
       " 'https://pk.linkedin.com/jobs/view/production-analyst-at-afiniti-3949479004?position=1&pageNum=5&refId=jnwne%2BKkN%2FApB9jqAw%2FEWA%3D%3D&trackingId=WzDIxdNGTveGAoBroRNVPg%3D%3D',\n",
       " 'https://pk.linkedin.com/jobs/view/sales-executive-at-sastechsol-4032809213?position=2&pageNum=5&refId=jnwne%2BKkN%2FApB9jqAw%2FEWA%3D%3D&trackingId=u60poNJjhd9U8Q3l9%2FoVxw%3D%3D',\n",
       " 'https://pk.linkedin.com/jobs/view/sales-marketing-executive-at-transbridge-logistics-pakistan-pvt-ltd-4032649790?position=3&pageNum=5&refId=jnwne%2BKkN%2FApB9jqAw%2FEWA%3D%3D&trackingId=iFdQG3EHUp%2FvaBj0P1NRFQ%3D%3D',\n",
       " 'https://pk.linkedin.com/jobs/view/business-development-executive-at-life-sized-publishing-4031090905?position=4&pageNum=5&refId=jnwne%2BKkN%2FApB9jqAw%2FEWA%3D%3D&trackingId=mcvN%2FY63A1MJi%2BF5a71G%2FA%3D%3D',\n",
       " 'https://pk.linkedin.com/jobs/view/senior-talent-acquisition-specialist-ref-726-at-hudson-rpo-4035221127?position=5&pageNum=5&refId=jnwne%2BKkN%2FApB9jqAw%2FEWA%3D%3D&trackingId=gxLth7Vs4VdAqjAqUPIJbg%3D%3D',\n",
       " 'https://pk.linkedin.com/jobs/view/lead-hrbp-at-gatronova-4033912132?position=6&pageNum=5&refId=jnwne%2BKkN%2FApB9jqAw%2FEWA%3D%3D&trackingId=nE4hqkZJ%2BWXarzpqHvMKQQ%3D%3D',\n",
       " 'https://pk.linkedin.com/jobs/view/software-engineer-mean-stack-at-hul-hub-pakistan-4033581322?position=7&pageNum=5&refId=jnwne%2BKkN%2FApB9jqAw%2FEWA%3D%3D&trackingId=W8TGn1VEQxzlDlIT45qcQQ%3D%3D',\n",
       " 'https://pk.linkedin.com/jobs/view/executive-manager-fi-and-home-remittance-at-telenor-microfinance-bank-limited-4034150509?position=8&pageNum=5&refId=jnwne%2BKkN%2FApB9jqAw%2FEWA%3D%3D&trackingId=folMr6OmVkNtYumas9CnBA%3D%3D',\n",
       " 'https://pk.linkedin.com/jobs/view/resource-development-manager-at-haqooq-e-insaniyat-social-welfare-organization-4034150794?position=9&pageNum=5&refId=jnwne%2BKkN%2FApB9jqAw%2FEWA%3D%3D&trackingId=biF2Tn7n25VFFGV%2B6SzpFg%3D%3D',\n",
       " 'https://pk.linkedin.com/jobs/view/calling-executives-multiple-vacancies-at-outwerk-solutions-4035262090?position=10&pageNum=5&refId=jnwne%2BKkN%2FApB9jqAw%2FEWA%3D%3D&trackingId=W67pmRV5WOXGM1iBMEt7AA%3D%3D',\n",
       " 'https://pk.linkedin.com/jobs/view/digital-marketing-strategist-at-remotiv-4036020086?position=1&pageNum=7&refId=8VibOlC2aOtOwIj9Lc0RZQ%3D%3D&trackingId=6ZRs%2FZ4ySJPgM8Z5hYjPnA%3D%3D',\n",
       " 'https://pk.linkedin.com/jobs/view/call-center-executive-at-dotgix-technologies-4031008178?position=2&pageNum=7&refId=8VibOlC2aOtOwIj9Lc0RZQ%3D%3D&trackingId=lpB%2B8L3jrUi%2Bbe222bkWkA%3D%3D',\n",
       " 'https://pk.linkedin.com/jobs/view/machine-operator-flexo-plate-making-at-s-i-chemicals-4034143313?position=3&pageNum=7&refId=8VibOlC2aOtOwIj9Lc0RZQ%3D%3D&trackingId=re9Y87yLWQGycuKi61D%2BcQ%3D%3D',\n",
       " 'https://pk.linkedin.com/jobs/view/book-formatter-at-tech-horizontal-4006265163?position=4&pageNum=7&refId=8VibOlC2aOtOwIj9Lc0RZQ%3D%3D&trackingId=d1u3uASvvhj%2BZArWQBTBsg%3D%3D',\n",
       " 'https://pk.linkedin.com/jobs/view/sales-development-representative-at-scalemill-4035223957?position=5&pageNum=7&refId=8VibOlC2aOtOwIj9Lc0RZQ%3D%3D&trackingId=D4vQ3SMAC7uAuO%2BpSSZpMA%3D%3D',\n",
       " 'https://pk.linkedin.com/jobs/view/production-analyst-at-afiniti-4018547527?position=6&pageNum=7&refId=8VibOlC2aOtOwIj9Lc0RZQ%3D%3D&trackingId=1TYuNf1bTUgi3VOz%2BwYT9Q%3D%3D',\n",
       " 'https://pk.linkedin.com/jobs/view/financial-data-analyst-ignitetech-remote-%2430-000-year-usd-at-crossover-4034460437?position=7&pageNum=7&refId=8VibOlC2aOtOwIj9Lc0RZQ%3D%3D&trackingId=sdpM0oZe0pEggS7oADfRzw%3D%3D',\n",
       " 'https://pk.linkedin.com/jobs/view/shopify-marketplace-manager-night-shift-at-nxt-labs-4034989198?position=8&pageNum=7&refId=8VibOlC2aOtOwIj9Lc0RZQ%3D%3D&trackingId=Jcf1%2BuqIfNmYRYJamtQdYA%3D%3D',\n",
       " 'https://pk.linkedin.com/jobs/view/front-sale-person-at-tria-tech-solution-pvt-ltd-4035542781?position=9&pageNum=7&refId=8VibOlC2aOtOwIj9Lc0RZQ%3D%3D&trackingId=zKEycgMnpIVFipfUG4fJtw%3D%3D',\n",
       " 'https://pk.linkedin.com/jobs/view/technical-sales-engineer-at-hs-ahmed-ally-4035056467?position=10&pageNum=7&refId=8VibOlC2aOtOwIj9Lc0RZQ%3D%3D&trackingId=oaqrc7JINe%2FCLSCzwIRZhw%3D%3D']"
      ]
     },
     "execution_count": 63,
     "metadata": {},
     "output_type": "execute_result"
    }
   ],
   "source": [
    "hrefList"
   ]
  },
  {
   "cell_type": "code",
   "execution_count": 64,
   "metadata": {},
   "outputs": [],
   "source": [
    "linklist=pd.DataFrame(hrefList,columns=[\"joblinks\"])"
   ]
  },
  {
   "cell_type": "code",
   "execution_count": 65,
   "metadata": {},
   "outputs": [],
   "source": [
    "\n",
    "linklist.to_csv('linkedinlinks.csv')"
   ]
  },
  {
   "cell_type": "markdown",
   "metadata": {},
   "source": [
    "## Close the driver"
   ]
  },
  {
   "cell_type": "code",
   "execution_count": 66,
   "metadata": {},
   "outputs": [],
   "source": [
    "driver.close()"
   ]
  }
 ],
 "metadata": {
  "kernelspec": {
   "display_name": "base",
   "language": "python",
   "name": "python3"
  },
  "language_info": {
   "codemirror_mode": {
    "name": "ipython",
    "version": 3
   },
   "file_extension": ".py",
   "mimetype": "text/x-python",
   "name": "python",
   "nbconvert_exporter": "python",
   "pygments_lexer": "ipython3",
   "version": "3.11.7"
  }
 },
 "nbformat": 4,
 "nbformat_minor": 2
}
